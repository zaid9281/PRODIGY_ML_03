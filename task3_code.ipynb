{
 "cells": [
  {
   "cell_type": "code",
   "execution_count": 1,
   "id": "5fb8884f-4154-4c5e-b2fa-32cee3afbc02",
   "metadata": {},
   "outputs": [
    {
     "name": "stdout",
     "output_type": "stream",
     "text": [
      "Requirement already satisfied: numpy in c:\\users\\mohammad rihan\\anaconda3\\lib\\site-packages (1.26.4)\n",
      "Requirement already satisfied: pandas in c:\\users\\mohammad rihan\\anaconda3\\lib\\site-packages (2.2.2)\n",
      "Requirement already satisfied: scikit-learn in c:\\users\\mohammad rihan\\anaconda3\\lib\\site-packages (1.4.2)\n",
      "Requirement already satisfied: scikit-image in c:\\users\\mohammad rihan\\anaconda3\\lib\\site-packages (0.23.2)\n",
      "Requirement already satisfied: matplotlib in c:\\users\\mohammad rihan\\anaconda3\\lib\\site-packages (3.8.4)\n",
      "Requirement already satisfied: tqdm in c:\\users\\mohammad rihan\\anaconda3\\lib\\site-packages (4.66.4)\n",
      "Requirement already satisfied: joblib in c:\\users\\mohammad rihan\\anaconda3\\lib\\site-packages (1.4.2)\n",
      "Requirement already satisfied: python-dateutil>=2.8.2 in c:\\users\\mohammad rihan\\anaconda3\\lib\\site-packages (from pandas) (2.9.0.post0)\n",
      "Requirement already satisfied: pytz>=2020.1 in c:\\users\\mohammad rihan\\anaconda3\\lib\\site-packages (from pandas) (2024.1)\n",
      "Requirement already satisfied: tzdata>=2022.7 in c:\\users\\mohammad rihan\\anaconda3\\lib\\site-packages (from pandas) (2023.3)\n",
      "Requirement already satisfied: scipy>=1.6.0 in c:\\users\\mohammad rihan\\anaconda3\\lib\\site-packages (from scikit-learn) (1.13.1)\n",
      "Requirement already satisfied: threadpoolctl>=2.0.0 in c:\\users\\mohammad rihan\\anaconda3\\lib\\site-packages (from scikit-learn) (2.2.0)\n",
      "Requirement already satisfied: networkx>=2.8 in c:\\users\\mohammad rihan\\anaconda3\\lib\\site-packages (from scikit-image) (3.2.1)\n",
      "Requirement already satisfied: pillow>=9.1 in c:\\users\\mohammad rihan\\anaconda3\\lib\\site-packages (from scikit-image) (10.3.0)\n",
      "Requirement already satisfied: imageio>=2.33 in c:\\users\\mohammad rihan\\anaconda3\\lib\\site-packages (from scikit-image) (2.33.1)\n",
      "Requirement already satisfied: tifffile>=2022.8.12 in c:\\users\\mohammad rihan\\anaconda3\\lib\\site-packages (from scikit-image) (2023.4.12)\n",
      "Requirement already satisfied: packaging>=21 in c:\\users\\mohammad rihan\\anaconda3\\lib\\site-packages (from scikit-image) (23.2)\n",
      "Requirement already satisfied: lazy-loader>=0.4 in c:\\users\\mohammad rihan\\anaconda3\\lib\\site-packages (from scikit-image) (0.4)\n",
      "Requirement already satisfied: contourpy>=1.0.1 in c:\\users\\mohammad rihan\\anaconda3\\lib\\site-packages (from matplotlib) (1.2.0)\n",
      "Requirement already satisfied: cycler>=0.10 in c:\\users\\mohammad rihan\\anaconda3\\lib\\site-packages (from matplotlib) (0.11.0)\n",
      "Requirement already satisfied: fonttools>=4.22.0 in c:\\users\\mohammad rihan\\anaconda3\\lib\\site-packages (from matplotlib) (4.51.0)\n",
      "Requirement already satisfied: kiwisolver>=1.3.1 in c:\\users\\mohammad rihan\\anaconda3\\lib\\site-packages (from matplotlib) (1.4.4)\n",
      "Requirement already satisfied: pyparsing>=2.3.1 in c:\\users\\mohammad rihan\\anaconda3\\lib\\site-packages (from matplotlib) (3.0.9)\n",
      "Requirement already satisfied: colorama in c:\\users\\mohammad rihan\\anaconda3\\lib\\site-packages (from tqdm) (0.4.6)\n",
      "Requirement already satisfied: six>=1.5 in c:\\users\\mohammad rihan\\anaconda3\\lib\\site-packages (from python-dateutil>=2.8.2->pandas) (1.16.0)\n"
     ]
    }
   ],
   "source": [
    "!pip install numpy pandas scikit-learn scikit-image matplotlib tqdm joblib"
   ]
  },
  {
   "cell_type": "code",
   "execution_count": 1,
   "id": "2dbc8493-dc01-4006-8685-ac517ecb083f",
   "metadata": {},
   "outputs": [
    {
     "name": "stdout",
     "output_type": "stream",
     "text": [
      "Loading dataset...\n",
      "Loading Cat images...\n"
     ]
    },
    {
     "name": "stderr",
     "output_type": "stream",
     "text": [
      "100%|██████████████████████████████████████████████████████████████████████████████| 1200/1200 [00:34<00:00, 34.48it/s]\n"
     ]
    },
    {
     "name": "stdout",
     "output_type": "stream",
     "text": [
      "Loading Dog images...\n"
     ]
    },
    {
     "name": "stderr",
     "output_type": "stream",
     "text": [
      "100%|██████████████████████████████████████████████████████████████████████████████| 1200/1200 [00:34<00:00, 35.28it/s]\n"
     ]
    },
    {
     "name": "stdout",
     "output_type": "stream",
     "text": [
      "\n",
      "Loaded 2395 images\n"
     ]
    },
    {
     "name": "stderr",
     "output_type": "stream",
     "text": [
      "Extracting HOG: 100%|█████████████████████████████████████████████████████████████| 2395/2395 [00:12<00:00, 184.40it/s]\n"
     ]
    },
    {
     "name": "stdout",
     "output_type": "stream",
     "text": [
      "\n",
      "Training SVM with RBF kernel...\n",
      "Fitting 3 folds for each of 16 candidates, totalling 48 fits\n",
      "\n",
      "Best Parameters: {'C': 10, 'gamma': 0.001, 'kernel': 'rbf'}\n",
      "\n",
      "Confusion Matrix:\n",
      " [[194  45]\n",
      " [ 76 164]]\n",
      "\n",
      "Classification Report:\n",
      "               precision    recall  f1-score   support\n",
      "\n",
      "           0       0.72      0.81      0.76       239\n",
      "           1       0.78      0.68      0.73       240\n",
      "\n",
      "    accuracy                           0.75       479\n",
      "   macro avg       0.75      0.75      0.75       479\n",
      "weighted avg       0.75      0.75      0.75       479\n",
      "\n",
      "\n",
      "Accuracy: 74.74%\n"
     ]
    }
   ],
   "source": [
    "import numpy as np\n",
    "import os\n",
    "from skimage.io import imread\n",
    "from skimage.transform import resize\n",
    "from skimage.feature import hog\n",
    "from sklearn.model_selection import train_test_split, GridSearchCV\n",
    "from sklearn import svm\n",
    "from sklearn.preprocessing import StandardScaler\n",
    "from sklearn.metrics import classification_report, confusion_matrix, accuracy_score\n",
    "from tqdm import tqdm\n",
    "import joblib\n",
    "\n",
    "# Optimized Configuration\n",
    "IMG_SIZE = (128, 128)          # Balanced resolution\n",
    "MAX_SAMPLES = 1200             # Sufficient data\n",
    "TEST_SIZE = 0.2\n",
    "RANDOM_STATE = 42\n",
    "ORIENTATIONS = 9               # HOG parameters\n",
    "PIXELS_PER_CELL = (16, 16)     # HOG parameters\n",
    "\n",
    "def extract_hog_features(images):\n",
    "    \"\"\"Enhanced HOG feature extraction\"\"\"\n",
    "    features = []\n",
    "    for img in tqdm(images, desc=\"Extracting HOG\"):\n",
    "        fd = hog(img,\n",
    "                orientations=ORIENTATIONS,\n",
    "                pixels_per_cell=PIXELS_PER_CELL,\n",
    "                cells_per_block=(2, 2),\n",
    "                channel_axis=-1)\n",
    "        features.append(fd)\n",
    "    return np.array(features)\n",
    "\n",
    "def load_images(root_dir):\n",
    "    \"\"\"Efficient image loader\"\"\"\n",
    "    images = []\n",
    "    labels = []\n",
    "    \n",
    "    for class_idx, class_name in enumerate(['Cat', 'Dog']):\n",
    "        class_dir = os.path.join(root_dir, class_name)\n",
    "        print(f\"Loading {class_name} images...\")\n",
    "        \n",
    "        files = [f for f in os.listdir(class_dir) \n",
    "                if f.lower().endswith(('.jpg','.jpeg','.png'))][:MAX_SAMPLES]\n",
    "        \n",
    "        for filename in tqdm(files):\n",
    "            try:\n",
    "                img = imread(os.path.join(class_dir, filename))\n",
    "                img = resize(img, IMG_SIZE)\n",
    "                if len(img.shape) == 2:\n",
    "                    img = np.stack((img,)*3, axis=-1)\n",
    "                images.append(img)\n",
    "                labels.append(class_idx)\n",
    "            except:\n",
    "                continue\n",
    "                \n",
    "    return np.array(images), np.array(labels)\n",
    "\n",
    "def main():\n",
    "    # 1. Load data\n",
    "    print(\"Loading dataset...\")\n",
    "    X, y = load_images(r\"C:\\Users\\Mohammad Rihan\\Downloads\\PetImages\")\n",
    "    print(f\"\\nLoaded {len(X)} images\")\n",
    "\n",
    "    # 2. Extract HOG features\n",
    "    X_features = extract_hog_features(X)\n",
    "\n",
    "    # 3. Train/test split\n",
    "    X_train, X_test, y_train, y_test = train_test_split(\n",
    "        X_features, y, test_size=TEST_SIZE, random_state=RANDOM_STATE, stratify=y)\n",
    "\n",
    "    # 4. Feature scaling\n",
    "    scaler = StandardScaler()\n",
    "    X_train = scaler.fit_transform(X_train)\n",
    "    X_test = scaler.transform(X_test)\n",
    "\n",
    "    # 5. Optimized SVM training\n",
    "    print(\"\\nTraining SVM with RBF kernel...\")\n",
    "    param_grid = {\n",
    "        'C': [0.1, 1, 10, 100],      # Wider range\n",
    "        'gamma': ['scale', 0.1, 0.01, 0.001],\n",
    "        'kernel': ['rbf']\n",
    "    }\n",
    "    \n",
    "    svm_model = svm.SVC(class_weight='balanced', random_state=RANDOM_STATE)\n",
    "    clf = GridSearchCV(svm_model, param_grid, cv=3, n_jobs=-1, verbose=2)\n",
    "    clf.fit(X_train, y_train)\n",
    "\n",
    "    # 6. Evaluation\n",
    "    y_pred = clf.predict(X_test)\n",
    "    print(\"\\nBest Parameters:\", clf.best_params_)\n",
    "    print(\"\\nConfusion Matrix:\\n\", confusion_matrix(y_test, y_pred))\n",
    "    print(\"\\nClassification Report:\\n\", classification_report(y_test, y_pred))\n",
    "    print(f\"\\nAccuracy: {accuracy_score(y_test, y_pred):.2%}\")\n",
    "\n",
    "    # 7. Save model\n",
    "    joblib.dump({\n",
    "        'model': clf.best_estimator_,\n",
    "        'scaler': scaler,\n",
    "        'hog_params': {\n",
    "            'orientations': ORIENTATIONS,\n",
    "            'pixels_per_cell': PIXELS_PER_CELL\n",
    "        }\n",
    "    }, 'optimized_svm_model.pkl')\n",
    "\n",
    "if __name__ == \"__main__\":\n",
    "    main()"
   ]
  },
  {
   "cell_type": "code",
   "execution_count": null,
   "id": "06938505-03e1-48d6-8dd9-f0c3d94a60b3",
   "metadata": {},
   "outputs": [],
   "source": []
  }
 ],
 "metadata": {
  "kernelspec": {
   "display_name": "Python 3 (ipykernel)",
   "language": "python",
   "name": "python3"
  },
  "language_info": {
   "codemirror_mode": {
    "name": "ipython",
    "version": 3
   },
   "file_extension": ".py",
   "mimetype": "text/x-python",
   "name": "python",
   "nbconvert_exporter": "python",
   "pygments_lexer": "ipython3",
   "version": "3.12.4"
  }
 },
 "nbformat": 4,
 "nbformat_minor": 5
}
